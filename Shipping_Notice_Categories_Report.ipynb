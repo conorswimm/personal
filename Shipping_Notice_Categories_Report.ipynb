{
 "cells": [
  {
   "cell_type": "markdown",
   "id": "20044b19",
   "metadata": {},
   "source": [
    "### Generating a sample dataset"
   ]
  },
  {
   "cell_type": "code",
   "execution_count": 4,
   "id": "117fb8ff",
   "metadata": {},
   "outputs": [],
   "source": [
    "import random\n",
    "import itertools\n",
    "import numpy as np\n",
    "import pandas as pd\n",
    "import matplotlib\n",
    "import requests\n",
    "import re"
   ]
  },
  {
   "cell_type": "markdown",
   "id": "250b1666",
   "metadata": {},
   "source": [
    "A PO number consists of PO + seven random digits + C, so below we'll define a function that will output a random PO number"
   ]
  },
  {
   "cell_type": "code",
   "execution_count": 5,
   "id": "dcbb9461",
   "metadata": {},
   "outputs": [],
   "source": [
    "def generate_po():\n",
    "    result = str(random.sample(range(1000000,9999999), 1))\n",
    "    result = result.strip('[')\n",
    "    result = result.strip(']')\n",
    "    return f\"PO{result}C\""
   ]
  },
  {
   "cell_type": "code",
   "execution_count": 6,
   "id": "bc878138",
   "metadata": {},
   "outputs": [
    {
     "data": {
      "text/plain": [
       "'PO1964861C'"
      ]
     },
     "execution_count": 6,
     "metadata": {},
     "output_type": "execute_result"
    }
   ],
   "source": [
    "generate_po()"
   ]
  },
  {
   "cell_type": "markdown",
   "id": "8db4e8fe",
   "metadata": {},
   "source": [
    "The eventual idea is to locate PO numbers within the text of emails, so for the sample data set we want to define a loop that will use the above function to generate a random PO number, and then interpolate it into random text a set number of times, and then concatenate these outputs into a list. "
   ]
  },
  {
   "cell_type": "code",
   "execution_count": 7,
   "id": "f55701e6",
   "metadata": {},
   "outputs": [],
   "source": [
    "email_list = []\n",
    "for i in itertools.repeat(None, 50):\n",
    "    random_po = generate_po()\n",
    "    sample_email = f'''Lorem ipsum dolor sit amet, consectetur adipiscing elit, sed do eiusmod tempor incididunt \n",
    "    ut labore et dolore magna aliqua. Magna {random_po} ac placerat vestibulum lectus mauris ultrices eros. \n",
    "    Duis tristique sollicitudin nibh sit amet. Odio eu feugiat pretium nibh ipsum consequat. Fusce ut placerat orci nulla \n",
    "    pellentesque dignissim enim sit amet.  Dictum {random_po} varius duis at consectetur. \n",
    "    Elementum pulvinar etiam non quam lacus suspendisse. Mi quis hendrerit dolor magna eget est lorem. \n",
    "    Pharetra convallis posuere morbi leo urna. Turpis egestas pretium aenean pharetra. \n",
    "    Amet cursus sit amet dictum sit amet justo donec.'''\n",
    "    email_list.append(sample_email)\n"
   ]
  },
  {
   "cell_type": "code",
   "execution_count": 8,
   "id": "3f5f26cc",
   "metadata": {},
   "outputs": [
    {
     "data": {
      "text/plain": [
       "['Lorem ipsum dolor sit amet, consectetur adipiscing elit, sed do eiusmod tempor incididunt \\n    ut labore et dolore magna aliqua. Magna PO7758576C ac placerat vestibulum lectus mauris ultrices eros. \\n    Duis tristique sollicitudin nibh sit amet. Odio eu feugiat pretium nibh ipsum consequat. Fusce ut placerat orci nulla \\n    pellentesque dignissim enim sit amet.  Dictum PO7758576C varius duis at consectetur. \\n    Elementum pulvinar etiam non quam lacus suspendisse. Mi quis hendrerit dolor magna eget est lorem. \\n    Pharetra convallis posuere morbi leo urna. Turpis egestas pretium aenean pharetra. \\n    Amet cursus sit amet dictum sit amet justo donec.',\n",
       " 'Lorem ipsum dolor sit amet, consectetur adipiscing elit, sed do eiusmod tempor incididunt \\n    ut labore et dolore magna aliqua. Magna PO9287468C ac placerat vestibulum lectus mauris ultrices eros. \\n    Duis tristique sollicitudin nibh sit amet. Odio eu feugiat pretium nibh ipsum consequat. Fusce ut placerat orci nulla \\n    pellentesque dignissim enim sit amet.  Dictum PO9287468C varius duis at consectetur. \\n    Elementum pulvinar etiam non quam lacus suspendisse. Mi quis hendrerit dolor magna eget est lorem. \\n    Pharetra convallis posuere morbi leo urna. Turpis egestas pretium aenean pharetra. \\n    Amet cursus sit amet dictum sit amet justo donec.',\n",
       " 'Lorem ipsum dolor sit amet, consectetur adipiscing elit, sed do eiusmod tempor incididunt \\n    ut labore et dolore magna aliqua. Magna PO8978359C ac placerat vestibulum lectus mauris ultrices eros. \\n    Duis tristique sollicitudin nibh sit amet. Odio eu feugiat pretium nibh ipsum consequat. Fusce ut placerat orci nulla \\n    pellentesque dignissim enim sit amet.  Dictum PO8978359C varius duis at consectetur. \\n    Elementum pulvinar etiam non quam lacus suspendisse. Mi quis hendrerit dolor magna eget est lorem. \\n    Pharetra convallis posuere morbi leo urna. Turpis egestas pretium aenean pharetra. \\n    Amet cursus sit amet dictum sit amet justo donec.']"
      ]
     },
     "execution_count": 8,
     "metadata": {},
     "output_type": "execute_result"
    }
   ],
   "source": [
    "email_list[:3]"
   ]
  },
  {
   "cell_type": "markdown",
   "id": "5e809e51",
   "metadata": {},
   "source": [
    "Because we'll eventually be searching the description column of the Salesforce report as a standard text file, we want to take the 50 'emails' in the above list and join them into one string which we'll then save as a text file to use later. "
   ]
  },
  {
   "cell_type": "code",
   "execution_count": 9,
   "id": "dd34a9ec",
   "metadata": {},
   "outputs": [],
   "source": [
    "sample_txt_file = ''.join(email_list)"
   ]
  },
  {
   "cell_type": "code",
   "execution_count": 10,
   "id": "cdd785ca",
   "metadata": {},
   "outputs": [
    {
     "data": {
      "text/plain": [
       "'Lorem ipsum dolor sit amet, consectetur adipiscing elit, sed do eiusmod tempor incididunt \\n    ut labore et dolore magna aliqua. Magna PO7758576C ac placerat vestibulum lectus mauris ultrices eros. \\n    Duis tristique sollicitudin nibh sit amet. Odio eu feugiat pretium nibh ipsum consequat. Fusce ut placerat orci nulla \\n    pellentesque dignissim enim sit amet.  Dictum PO7758576C varius duis at consectetur. \\n    Elementum pulvinar etiam non quam lacus suspendisse. Mi quis hendrerit dolor magna e'"
      ]
     },
     "execution_count": 10,
     "metadata": {},
     "output_type": "execute_result"
    }
   ],
   "source": [
    "sample_txt_file[:500]"
   ]
  },
  {
   "cell_type": "code",
   "execution_count": 11,
   "id": "07f7d176",
   "metadata": {},
   "outputs": [],
   "source": [
    "text_file = open(\"sample_file.txt\", \"wt\")\n",
    "n = text_file.write(sample_txt_file)\n",
    "text_file.close()"
   ]
  },
  {
   "cell_type": "markdown",
   "id": "231778e8",
   "metadata": {},
   "source": [
    "### Extracting the POs from emails using regular expressions"
   ]
  },
  {
   "cell_type": "markdown",
   "id": "b3758c59",
   "metadata": {},
   "source": [
    "Now that we've generated a random dataset, we can move on to pulling the actual information. The first step will be to open the file we've created above as a string."
   ]
  },
  {
   "cell_type": "code",
   "execution_count": 12,
   "id": "dac5783e",
   "metadata": {},
   "outputs": [],
   "source": [
    "filepath = \"sample_file.txt\"\n",
    "with open (filepath) as f:\n",
    "    cases_str = f.read()"
   ]
  },
  {
   "cell_type": "code",
   "execution_count": 13,
   "id": "33c9b4bf",
   "metadata": {},
   "outputs": [
    {
     "data": {
      "text/plain": [
       "'Lorem ipsum dolor sit amet, consectetur adipiscing elit, sed do eiusmod tempor incididunt \\n    ut labore et dolore magna aliqua. Magna PO7758576C ac placerat vestibulum lectus mauris ultrices eros. \\n    Duis tristique sollicitudin nibh sit amet. Odio eu feugiat pretium nibh ipsum consequat. Fusce ut placerat orci nulla \\n    pellentesque dignissim enim sit amet.  Dictum PO7758576C varius duis at consectetur. \\n    Elementum pulvinar etiam non quam lacus suspendisse. Mi quis hendrerit dolor magna e'"
      ]
     },
     "execution_count": 13,
     "metadata": {},
     "output_type": "execute_result"
    }
   ],
   "source": [
    "cases_str[:500]"
   ]
  },
  {
   "cell_type": "markdown",
   "id": "19a73fda",
   "metadata": {},
   "source": [
    "Now that we've loaded the file we're going to search it for anything matching the PO pattern of 'PO + Seven Digits + C'"
   ]
  },
  {
   "cell_type": "code",
   "execution_count": 14,
   "id": "7b78b8f2",
   "metadata": {},
   "outputs": [],
   "source": [
    "pattern = r\"PO\\d{7}C\"\n",
    "po_list = re.findall(pattern, cases_str)"
   ]
  },
  {
   "cell_type": "code",
   "execution_count": 15,
   "id": "77f1acde",
   "metadata": {},
   "outputs": [
    {
     "data": {
      "text/plain": [
       "['PO7758576C',\n",
       " 'PO7758576C',\n",
       " 'PO9287468C',\n",
       " 'PO9287468C',\n",
       " 'PO8978359C',\n",
       " 'PO8978359C',\n",
       " 'PO6173749C',\n",
       " 'PO6173749C',\n",
       " 'PO4567941C',\n",
       " 'PO4567941C']"
      ]
     },
     "execution_count": 15,
     "metadata": {},
     "output_type": "execute_result"
    }
   ],
   "source": [
    "po_list[:10]"
   ]
  },
  {
   "cell_type": "markdown",
   "id": "7f5a7395",
   "metadata": {},
   "source": [
    "We've now got a list of every single time anything matching the PO pattern is mentioned in one of the sample 'emails' but you can see that some POs are mentioned more than once so we need to remove the duplicates."
   ]
  },
  {
   "cell_type": "code",
   "execution_count": 16,
   "id": "22c840b8",
   "metadata": {},
   "outputs": [
    {
     "data": {
      "text/html": [
       "<div>\n",
       "<style scoped>\n",
       "    .dataframe tbody tr th:only-of-type {\n",
       "        vertical-align: middle;\n",
       "    }\n",
       "\n",
       "    .dataframe tbody tr th {\n",
       "        vertical-align: top;\n",
       "    }\n",
       "\n",
       "    .dataframe thead th {\n",
       "        text-align: right;\n",
       "    }\n",
       "</style>\n",
       "<table border=\"1\" class=\"dataframe\">\n",
       "  <thead>\n",
       "    <tr style=\"text-align: right;\">\n",
       "      <th></th>\n",
       "      <th>PO-Number</th>\n",
       "    </tr>\n",
       "  </thead>\n",
       "  <tbody>\n",
       "    <tr>\n",
       "      <th>0</th>\n",
       "      <td>PO7758576C</td>\n",
       "    </tr>\n",
       "    <tr>\n",
       "      <th>1</th>\n",
       "      <td>PO7758576C</td>\n",
       "    </tr>\n",
       "    <tr>\n",
       "      <th>2</th>\n",
       "      <td>PO9287468C</td>\n",
       "    </tr>\n",
       "    <tr>\n",
       "      <th>3</th>\n",
       "      <td>PO9287468C</td>\n",
       "    </tr>\n",
       "    <tr>\n",
       "      <th>4</th>\n",
       "      <td>PO8978359C</td>\n",
       "    </tr>\n",
       "  </tbody>\n",
       "</table>\n",
       "</div>"
      ],
      "text/plain": [
       "    PO-Number\n",
       "0  PO7758576C\n",
       "1  PO7758576C\n",
       "2  PO9287468C\n",
       "3  PO9287468C\n",
       "4  PO8978359C"
      ]
     },
     "execution_count": 16,
     "metadata": {},
     "output_type": "execute_result"
    }
   ],
   "source": [
    "po_series = pd.DataFrame(po_list)\n",
    "po_series.rename(columns={0: \"PO-Number\"},inplace=True)\n",
    "po_series.head()"
   ]
  },
  {
   "cell_type": "code",
   "execution_count": 17,
   "id": "e5049b40",
   "metadata": {},
   "outputs": [],
   "source": [
    "po_series.drop_duplicates(inplace=True)"
   ]
  },
  {
   "cell_type": "code",
   "execution_count": 18,
   "id": "79c12e76",
   "metadata": {
    "scrolled": true
   },
   "outputs": [
    {
     "data": {
      "text/html": [
       "<div>\n",
       "<style scoped>\n",
       "    .dataframe tbody tr th:only-of-type {\n",
       "        vertical-align: middle;\n",
       "    }\n",
       "\n",
       "    .dataframe tbody tr th {\n",
       "        vertical-align: top;\n",
       "    }\n",
       "\n",
       "    .dataframe thead th {\n",
       "        text-align: right;\n",
       "    }\n",
       "</style>\n",
       "<table border=\"1\" class=\"dataframe\">\n",
       "  <thead>\n",
       "    <tr style=\"text-align: right;\">\n",
       "      <th></th>\n",
       "      <th>PO-Number</th>\n",
       "    </tr>\n",
       "  </thead>\n",
       "  <tbody>\n",
       "    <tr>\n",
       "      <th>0</th>\n",
       "      <td>PO7758576C</td>\n",
       "    </tr>\n",
       "    <tr>\n",
       "      <th>2</th>\n",
       "      <td>PO9287468C</td>\n",
       "    </tr>\n",
       "    <tr>\n",
       "      <th>4</th>\n",
       "      <td>PO8978359C</td>\n",
       "    </tr>\n",
       "    <tr>\n",
       "      <th>6</th>\n",
       "      <td>PO6173749C</td>\n",
       "    </tr>\n",
       "    <tr>\n",
       "      <th>8</th>\n",
       "      <td>PO4567941C</td>\n",
       "    </tr>\n",
       "    <tr>\n",
       "      <th>10</th>\n",
       "      <td>PO1988874C</td>\n",
       "    </tr>\n",
       "    <tr>\n",
       "      <th>12</th>\n",
       "      <td>PO7537363C</td>\n",
       "    </tr>\n",
       "    <tr>\n",
       "      <th>14</th>\n",
       "      <td>PO2171100C</td>\n",
       "    </tr>\n",
       "    <tr>\n",
       "      <th>16</th>\n",
       "      <td>PO1594691C</td>\n",
       "    </tr>\n",
       "    <tr>\n",
       "      <th>18</th>\n",
       "      <td>PO1983557C</td>\n",
       "    </tr>\n",
       "  </tbody>\n",
       "</table>\n",
       "</div>"
      ],
      "text/plain": [
       "     PO-Number\n",
       "0   PO7758576C\n",
       "2   PO9287468C\n",
       "4   PO8978359C\n",
       "6   PO6173749C\n",
       "8   PO4567941C\n",
       "10  PO1988874C\n",
       "12  PO7537363C\n",
       "14  PO2171100C\n",
       "16  PO1594691C\n",
       "18  PO1983557C"
      ]
     },
     "execution_count": 18,
     "metadata": {},
     "output_type": "execute_result"
    }
   ],
   "source": [
    "po_series.head(10)"
   ]
  },
  {
   "cell_type": "code",
   "execution_count": 19,
   "id": "e3751b16",
   "metadata": {
    "scrolled": true
   },
   "outputs": [
    {
     "data": {
      "text/html": [
       "<div>\n",
       "<style scoped>\n",
       "    .dataframe tbody tr th:only-of-type {\n",
       "        vertical-align: middle;\n",
       "    }\n",
       "\n",
       "    .dataframe tbody tr th {\n",
       "        vertical-align: top;\n",
       "    }\n",
       "\n",
       "    .dataframe thead th {\n",
       "        text-align: right;\n",
       "    }\n",
       "</style>\n",
       "<table border=\"1\" class=\"dataframe\">\n",
       "  <thead>\n",
       "    <tr style=\"text-align: right;\">\n",
       "      <th></th>\n",
       "      <th>index</th>\n",
       "      <th>PO-Number</th>\n",
       "    </tr>\n",
       "  </thead>\n",
       "  <tbody>\n",
       "    <tr>\n",
       "      <th>0</th>\n",
       "      <td>0</td>\n",
       "      <td>PO7758576C</td>\n",
       "    </tr>\n",
       "    <tr>\n",
       "      <th>1</th>\n",
       "      <td>2</td>\n",
       "      <td>PO9287468C</td>\n",
       "    </tr>\n",
       "    <tr>\n",
       "      <th>2</th>\n",
       "      <td>4</td>\n",
       "      <td>PO8978359C</td>\n",
       "    </tr>\n",
       "    <tr>\n",
       "      <th>3</th>\n",
       "      <td>6</td>\n",
       "      <td>PO6173749C</td>\n",
       "    </tr>\n",
       "    <tr>\n",
       "      <th>4</th>\n",
       "      <td>8</td>\n",
       "      <td>PO4567941C</td>\n",
       "    </tr>\n",
       "  </tbody>\n",
       "</table>\n",
       "</div>"
      ],
      "text/plain": [
       "   index   PO-Number\n",
       "0      0  PO7758576C\n",
       "1      2  PO9287468C\n",
       "2      4  PO8978359C\n",
       "3      6  PO6173749C\n",
       "4      8  PO4567941C"
      ]
     },
     "execution_count": 19,
     "metadata": {},
     "output_type": "execute_result"
    }
   ],
   "source": [
    "po_series.reset_index(inplace=True)\n",
    "po_series.head()"
   ]
  },
  {
   "cell_type": "code",
   "execution_count": 20,
   "id": "04877d04",
   "metadata": {
    "scrolled": true
   },
   "outputs": [
    {
     "data": {
      "text/html": [
       "<div>\n",
       "<style scoped>\n",
       "    .dataframe tbody tr th:only-of-type {\n",
       "        vertical-align: middle;\n",
       "    }\n",
       "\n",
       "    .dataframe tbody tr th {\n",
       "        vertical-align: top;\n",
       "    }\n",
       "\n",
       "    .dataframe thead th {\n",
       "        text-align: right;\n",
       "    }\n",
       "</style>\n",
       "<table border=\"1\" class=\"dataframe\">\n",
       "  <thead>\n",
       "    <tr style=\"text-align: right;\">\n",
       "      <th></th>\n",
       "      <th>PO-Number</th>\n",
       "    </tr>\n",
       "  </thead>\n",
       "  <tbody>\n",
       "    <tr>\n",
       "      <th>0</th>\n",
       "      <td>PO7758576C</td>\n",
       "    </tr>\n",
       "    <tr>\n",
       "      <th>1</th>\n",
       "      <td>PO9287468C</td>\n",
       "    </tr>\n",
       "    <tr>\n",
       "      <th>2</th>\n",
       "      <td>PO8978359C</td>\n",
       "    </tr>\n",
       "    <tr>\n",
       "      <th>3</th>\n",
       "      <td>PO6173749C</td>\n",
       "    </tr>\n",
       "    <tr>\n",
       "      <th>4</th>\n",
       "      <td>PO4567941C</td>\n",
       "    </tr>\n",
       "  </tbody>\n",
       "</table>\n",
       "</div>"
      ],
      "text/plain": [
       "    PO-Number\n",
       "0  PO7758576C\n",
       "1  PO9287468C\n",
       "2  PO8978359C\n",
       "3  PO6173749C\n",
       "4  PO4567941C"
      ]
     },
     "execution_count": 20,
     "metadata": {},
     "output_type": "execute_result"
    }
   ],
   "source": [
    "po_series.drop(columns='index',inplace=True)\n",
    "po_series.head()"
   ]
  },
  {
   "cell_type": "code",
   "execution_count": 21,
   "id": "224b8421",
   "metadata": {},
   "outputs": [
    {
     "name": "stdout",
     "output_type": "stream",
     "text": [
      "<class 'pandas.core.frame.DataFrame'>\n",
      "RangeIndex: 50 entries, 0 to 49\n",
      "Data columns (total 1 columns):\n",
      " #   Column     Non-Null Count  Dtype \n",
      "---  ------     --------------  ----- \n",
      " 0   PO-Number  50 non-null     object\n",
      "dtypes: object(1)\n",
      "memory usage: 528.0+ bytes\n"
     ]
    }
   ],
   "source": [
    "po_series.info()"
   ]
  },
  {
   "cell_type": "markdown",
   "id": "d10f5c9d",
   "metadata": {},
   "source": [
    "After removing duplicates and cleaning up the table's labels and indexes, we can see that there were 50 unique PO numbers mentioned in the entirety of the emails. Now we can save these 50 unique PO numbers as a CSV, which we can then use to query the subcat of the PO. "
   ]
  },
  {
   "cell_type": "code",
   "execution_count": 22,
   "id": "19961f31",
   "metadata": {},
   "outputs": [],
   "source": [
    "po_series.to_csv('po_list.csv')"
   ]
  },
  {
   "cell_type": "code",
   "execution_count": 23,
   "id": "38cce8c4",
   "metadata": {},
   "outputs": [],
   "source": [
    "example_dict = {'Swinton,': 1,\n",
    " 'each': 1,\n",
    " 'in': 4,\n",
    " 'which': 2,\n",
    " 'published': 1,\n",
    " 'is': 6,\n",
    " '(Tilda': 1,\n",
    " 'to': 1,\n",
    " 'showcased': 1,\n",
    " 'Ennui-sur-Blasé': 1,\n",
    " 'perfect': 1,\n",
    " 'own': 1,\n",
    " 'as': 2,\n",
    " 'magazine': 2,\n",
    " 'tour': 1,\n",
    " 'town,': 1,\n",
    " 'Murray),': 1,\n",
    " 'stories': 1,\n",
    " 'scheduled': 1,\n",
    " 'its': 3,\n",
    " 'filmmakers': 1,\n",
    " 'While': 1,\n",
    " 'French': 2,\n",
    " 'get': 1,\n",
    " 'town': 1,\n",
    " 'exteriors': 1,\n",
    " 'multiple': 1,\n",
    " 'list': 1,\n",
    " 'Andersonian': 1,\n",
    " 'movie’s': 1,\n",
    " 'their': 1,\n",
    " 'creating': 1,\n",
    " 'theaters': 1,\n",
    " 'found': 1,\n",
    " 'a': 5,\n",
    " 'that': 2,\n",
    " 'Oct.': 1,\n",
    " 'segments.': 1,\n",
    " 'planning': 1,\n",
    " 'film’s': 1,\n",
    " 'Howitzer': 1,\n",
    " 'heart,': 1,\n",
    " 'movie,': 1,\n",
    " 'dramatization': 1,\n",
    " 'Frances': 1,\n",
    " '22,': 1,\n",
    " 'editor,': 1,\n",
    " 'of': 6,\n",
    " 'longtime': 1,\n",
    " 'backlot,': 1,\n",
    " 'final': 1,\n",
    " 'touch).': 1,\n",
    " 'the': 10,\n",
    " 'death': 1,\n",
    " 'long': 1,\n",
    " 'and': 2,\n",
    " 'than': 1,\n",
    " 'focuses': 1,\n",
    " 'names': 1,\n",
    " 'Del': 1,\n",
    " 'an': 1,\n",
    " 'Rather': 1,\n",
    " 'makes': 1,\n",
    " 'Angoulême,': 1,\n",
    " 'on': 3,\n",
    " 'Toro,': 1,\n",
    " 'Benicio': 1,\n",
    " '(Bill': 1,\n",
    " 'McDormand,': 1,\n",
    " 'beating': 1,\n",
    " 'Jr.': 1,\n",
    " 'The': 1,\n",
    " 'stars': 1,\n",
    " 'used': 1,\n",
    " 'or': 1,\n",
    " 'With': 1,\n",
    " 'Jeffrey': 1,\n",
    " 'released': 1,\n",
    " 'four': 1,\n",
    " 'down': 1,\n",
    " 'biggest': 1,\n",
    " 'film.': 1,\n",
    " 'fictional': 1,\n",
    " 'issue,': 1,\n",
    " 'Arthur': 1,\n",
    " 'cast': 1,\n",
    " 'recognizable': 1,\n",
    " '(the': 1,\n",
    " 'name': 1,\n",
    " 'one': 2,\n",
    " 'city': 1,\n",
    " 'dressing': 1,\n",
    " 'needed.': 1,\n",
    " 'city,': 1,\n",
    " 'real': 1,\n",
    " 'be': 1,\n",
    " 'it': 2,\n",
    " 'American': 1,\n",
    " 'Wright)': 1,\n",
    " 'up': 2}"
   ]
  },
  {
   "cell_type": "code",
   "execution_count": 24,
   "id": "c8e6f818",
   "metadata": {},
   "outputs": [
    {
     "ename": "AttributeError",
     "evalue": "module 'pandas' has no attribute 'from_dict'",
     "output_type": "error",
     "traceback": [
      "\u001b[0;31m---------------------------------------------------------------------------\u001b[0m",
      "\u001b[0;31mAttributeError\u001b[0m                            Traceback (most recent call last)",
      "\u001b[0;32m/var/folders/7t/w8t855ns10q6z1s2g4px0glc0000gn/T/ipykernel_7825/351729566.py\u001b[0m in \u001b[0;36m<module>\u001b[0;34m\u001b[0m\n\u001b[0;32m----> 1\u001b[0;31m \u001b[0mpd\u001b[0m\u001b[0;34m.\u001b[0m\u001b[0mfrom_dict\u001b[0m\u001b[0;34m(\u001b[0m\u001b[0mexample_dict\u001b[0m\u001b[0;34m)\u001b[0m\u001b[0;34m\u001b[0m\u001b[0;34m\u001b[0m\u001b[0m\n\u001b[0m",
      "\u001b[0;32m~/.pyenv/versions/3.8.12/envs/lewagon/lib/python3.8/site-packages/pandas/__init__.py\u001b[0m in \u001b[0;36m__getattr__\u001b[0;34m(name)\u001b[0m\n\u001b[1;32m    242\u001b[0m         \u001b[0;32mreturn\u001b[0m \u001b[0m_SparseArray\u001b[0m\u001b[0;34m\u001b[0m\u001b[0;34m\u001b[0m\u001b[0m\n\u001b[1;32m    243\u001b[0m \u001b[0;34m\u001b[0m\u001b[0m\n\u001b[0;32m--> 244\u001b[0;31m     \u001b[0;32mraise\u001b[0m \u001b[0mAttributeError\u001b[0m\u001b[0;34m(\u001b[0m\u001b[0;34mf\"module 'pandas' has no attribute '{name}'\"\u001b[0m\u001b[0;34m)\u001b[0m\u001b[0;34m\u001b[0m\u001b[0;34m\u001b[0m\u001b[0m\n\u001b[0m\u001b[1;32m    245\u001b[0m \u001b[0;34m\u001b[0m\u001b[0m\n\u001b[1;32m    246\u001b[0m \u001b[0;34m\u001b[0m\u001b[0m\n",
      "\u001b[0;31mAttributeError\u001b[0m: module 'pandas' has no attribute 'from_dict'"
     ]
    }
   ],
   "source": [
    "pd.from_dict(example_dict)"
   ]
  },
  {
   "cell_type": "code",
   "execution_count": null,
   "id": "a08b291f",
   "metadata": {},
   "outputs": [],
   "source": []
  }
 ],
 "metadata": {
  "kernelspec": {
   "display_name": "Python 3 (ipykernel)",
   "language": "python",
   "name": "python3"
  },
  "language_info": {
   "codemirror_mode": {
    "name": "ipython",
    "version": 3
   },
   "file_extension": ".py",
   "mimetype": "text/x-python",
   "name": "python",
   "nbconvert_exporter": "python",
   "pygments_lexer": "ipython3",
   "version": "3.8.12"
  },
  "toc": {
   "base_numbering": 1,
   "nav_menu": {},
   "number_sections": true,
   "sideBar": true,
   "skip_h1_title": false,
   "title_cell": "Table of Contents",
   "title_sidebar": "Contents",
   "toc_cell": false,
   "toc_position": {},
   "toc_section_display": true,
   "toc_window_display": false
  }
 },
 "nbformat": 4,
 "nbformat_minor": 5
}
