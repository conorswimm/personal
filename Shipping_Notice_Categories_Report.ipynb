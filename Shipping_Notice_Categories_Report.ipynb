{
 "cells": [
  {
   "cell_type": "markdown",
   "id": "20044b19",
   "metadata": {},
   "source": [
    "### Generating a sample dataset"
   ]
  },
  {
   "cell_type": "code",
   "execution_count": 16,
   "id": "117fb8ff",
   "metadata": {},
   "outputs": [],
   "source": [
    "import random\n",
    "import itertools\n",
    "import numpy as np\n",
    "import pandas as pd\n",
    "import matplotlib\n",
    "import requests\n",
    "import re"
   ]
  },
  {
   "cell_type": "markdown",
   "id": "250b1666",
   "metadata": {},
   "source": [
    "A PO number consists of PO + seven random digits + C, so below we'll define a function that will output a random PO number"
   ]
  },
  {
   "cell_type": "code",
   "execution_count": 17,
   "id": "dcbb9461",
   "metadata": {},
   "outputs": [],
   "source": [
    "def generate_po():\n",
    "    result = str(random.sample(range(1000000,9999999), 1)).strip('[').strip(']')\n",
    "    return f\"PO{result}C\""
   ]
  },
  {
   "cell_type": "code",
   "execution_count": 18,
   "id": "bc878138",
   "metadata": {},
   "outputs": [
    {
     "data": {
      "text/plain": [
       "'PO1957862C'"
      ]
     },
     "execution_count": 18,
     "metadata": {},
     "output_type": "execute_result"
    }
   ],
   "source": [
    "generate_po()"
   ]
  },
  {
   "cell_type": "markdown",
   "id": "8db4e8fe",
   "metadata": {},
   "source": [
    "The eventual idea is to locate PO numbers within the text of emails, so for the sample data set we want to define a loop that will use the above function to generate a random PO number, and then interpolate it into random text a set number of times, and then concatenate these outputs into a list. "
   ]
  },
  {
   "cell_type": "code",
   "execution_count": 19,
   "id": "f55701e6",
   "metadata": {},
   "outputs": [],
   "source": [
    "email_list = []\n",
    "for i in itertools.repeat(None, 50):\n",
    "    sample_email = f'''Lorem ipsum dolor sit amet, consectetur adipiscing elit, sed do eiusmod tempor incididunt \n",
    "    ut labore et dolore magna aliqua. Magna {generate_po()} ac placerat vestibulum lectus mauris ultrices eros. \n",
    "    Duis tristique sollicitudin nibh sit amet. Odio eu feugiat pretium nibh ipsum consequat. Fusce ut placerat orci nulla \n",
    "    pellentesque dignissim enim sit amet.  Dictum {generate_po()} varius duis at consectetur. \n",
    "    Elementum pulvinar etiam non quam lacus suspendisse. Mi quis hendrerit dolor magna eget est lorem. \n",
    "    Pharetra convallis posuere morbi leo urna. Turpis egestas pretium aenean pharetra. \n",
    "    Amet cursus sit amet dictum sit amet justo donec.'''\n",
    "    email_list.append(sample_email)\n"
   ]
  },
  {
   "cell_type": "code",
   "execution_count": 20,
   "id": "3f5f26cc",
   "metadata": {},
   "outputs": [
    {
     "data": {
      "text/plain": [
       "['Lorem ipsum dolor sit amet, consectetur adipiscing elit, sed do eiusmod tempor incididunt \\n    ut labore et dolore magna aliqua. Magna PO2515043C ac placerat vestibulum lectus mauris ultrices eros. \\n    Duis tristique sollicitudin nibh sit amet. Odio eu feugiat pretium nibh ipsum consequat. Fusce ut placerat orci nulla \\n    pellentesque dignissim enim sit amet.  Dictum PO7177994C varius duis at consectetur. \\n    Elementum pulvinar etiam non quam lacus suspendisse. Mi quis hendrerit dolor magna eget est lorem. \\n    Pharetra convallis posuere morbi leo urna. Turpis egestas pretium aenean pharetra. \\n    Amet cursus sit amet dictum sit amet justo donec.',\n",
       " 'Lorem ipsum dolor sit amet, consectetur adipiscing elit, sed do eiusmod tempor incididunt \\n    ut labore et dolore magna aliqua. Magna PO5820922C ac placerat vestibulum lectus mauris ultrices eros. \\n    Duis tristique sollicitudin nibh sit amet. Odio eu feugiat pretium nibh ipsum consequat. Fusce ut placerat orci nulla \\n    pellentesque dignissim enim sit amet.  Dictum PO2256293C varius duis at consectetur. \\n    Elementum pulvinar etiam non quam lacus suspendisse. Mi quis hendrerit dolor magna eget est lorem. \\n    Pharetra convallis posuere morbi leo urna. Turpis egestas pretium aenean pharetra. \\n    Amet cursus sit amet dictum sit amet justo donec.',\n",
       " 'Lorem ipsum dolor sit amet, consectetur adipiscing elit, sed do eiusmod tempor incididunt \\n    ut labore et dolore magna aliqua. Magna PO6493938C ac placerat vestibulum lectus mauris ultrices eros. \\n    Duis tristique sollicitudin nibh sit amet. Odio eu feugiat pretium nibh ipsum consequat. Fusce ut placerat orci nulla \\n    pellentesque dignissim enim sit amet.  Dictum PO1783010C varius duis at consectetur. \\n    Elementum pulvinar etiam non quam lacus suspendisse. Mi quis hendrerit dolor magna eget est lorem. \\n    Pharetra convallis posuere morbi leo urna. Turpis egestas pretium aenean pharetra. \\n    Amet cursus sit amet dictum sit amet justo donec.']"
      ]
     },
     "execution_count": 20,
     "metadata": {},
     "output_type": "execute_result"
    }
   ],
   "source": [
    "email_list[:3]"
   ]
  },
  {
   "cell_type": "markdown",
   "id": "5e809e51",
   "metadata": {},
   "source": [
    "Because we'll eventually be searching the description column of the Salesforce report as a standard text file, we want to take the 50 'emails' in the above list and join them into one string which we'll then save as a text file to use later. "
   ]
  },
  {
   "cell_type": "code",
   "execution_count": 21,
   "id": "dd34a9ec",
   "metadata": {},
   "outputs": [],
   "source": [
    "sample_txt_file = ''.join(email_list)"
   ]
  },
  {
   "cell_type": "code",
   "execution_count": 22,
   "id": "cdd785ca",
   "metadata": {},
   "outputs": [
    {
     "data": {
      "text/plain": [
       "'Lorem ipsum dolor sit amet, consectetur adipiscing elit, sed do eiusmod tempor incididunt \\n    ut labore et dolore magna aliqua. Magna PO2515043C ac placerat vestibulum lectus mauris ultrices eros. \\n    Duis tristique sollicitudin nibh sit amet. Odio eu feugiat pretium nibh ipsum consequat. Fusce ut placerat orci nulla \\n    pellentesque dignissim enim sit amet.  Dictum PO7177994C varius duis at consectetur. \\n    Elementum pulvinar etiam non quam lacus suspendisse. Mi quis hendrerit dolor magna e'"
      ]
     },
     "execution_count": 22,
     "metadata": {},
     "output_type": "execute_result"
    }
   ],
   "source": [
    "sample_txt_file[:500]"
   ]
  },
  {
   "cell_type": "code",
   "execution_count": 23,
   "id": "07f7d176",
   "metadata": {},
   "outputs": [],
   "source": [
    "text_file = open(\"sample_file.txt\", \"wt\")\n",
    "n = text_file.write(sample_txt_file)\n",
    "text_file.close()"
   ]
  },
  {
   "cell_type": "markdown",
   "id": "231778e8",
   "metadata": {},
   "source": [
    "### Extracting the POs from emails using regular expressions"
   ]
  },
  {
   "cell_type": "markdown",
   "id": "b3758c59",
   "metadata": {},
   "source": [
    "Now that we've generated a random dataset, we can move on to pulling the actual information. The first step will be to open the file we've created above as a string."
   ]
  },
  {
   "cell_type": "code",
   "execution_count": 24,
   "id": "dac5783e",
   "metadata": {},
   "outputs": [],
   "source": [
    "filepath = \"sample_file.txt\"\n",
    "with open (filepath) as f:\n",
    "    cases_str = f.read()"
   ]
  },
  {
   "cell_type": "code",
   "execution_count": 25,
   "id": "33c9b4bf",
   "metadata": {},
   "outputs": [
    {
     "data": {
      "text/plain": [
       "'Lorem ipsum dolor sit amet, consectetur adipiscing elit, sed do eiusmod tempor incididunt \\n    ut labore et dolore magna aliqua. Magna PO2515043C ac placerat vestibulum lectus mauris ultrices eros. \\n    Duis tristique sollicitudin nibh sit amet. Odio eu feugiat pretium nibh ipsum consequat. Fusce ut placerat orci nulla \\n    pellentesque dignissim enim sit amet.  Dictum PO7177994C varius duis at consectetur. \\n    Elementum pulvinar etiam non quam lacus suspendisse. Mi quis hendrerit dolor magna e'"
      ]
     },
     "execution_count": 25,
     "metadata": {},
     "output_type": "execute_result"
    }
   ],
   "source": [
    "cases_str[:500]"
   ]
  },
  {
   "cell_type": "markdown",
   "id": "19a73fda",
   "metadata": {},
   "source": [
    "Now that we've loaded the file we're going to search it for anything matching the PO pattern of 'PO + Seven Digits + C'"
   ]
  },
  {
   "cell_type": "code",
   "execution_count": 26,
   "id": "7b78b8f2",
   "metadata": {},
   "outputs": [],
   "source": [
    "pattern = r\"PO\\d{7}C\"\n",
    "po_list = re.findall(pattern, cases_str)"
   ]
  },
  {
   "cell_type": "code",
   "execution_count": 27,
   "id": "77f1acde",
   "metadata": {},
   "outputs": [
    {
     "data": {
      "text/plain": [
       "['PO2515043C',\n",
       " 'PO7177994C',\n",
       " 'PO5820922C',\n",
       " 'PO2256293C',\n",
       " 'PO6493938C',\n",
       " 'PO1783010C',\n",
       " 'PO8677272C',\n",
       " 'PO6101278C',\n",
       " 'PO8346848C',\n",
       " 'PO3282345C']"
      ]
     },
     "execution_count": 27,
     "metadata": {},
     "output_type": "execute_result"
    }
   ],
   "source": [
    "po_list[:10]"
   ]
  },
  {
   "cell_type": "markdown",
   "id": "7f5a7395",
   "metadata": {},
   "source": [
    "We've now got a list of every single time anything matching the PO pattern is mentioned in one of the sample 'emails' but you can see that some POs are mentioned more than once so we need to remove the duplicates."
   ]
  },
  {
   "cell_type": "code",
   "execution_count": 28,
   "id": "22c840b8",
   "metadata": {},
   "outputs": [
    {
     "data": {
      "text/html": [
       "<div>\n",
       "<style scoped>\n",
       "    .dataframe tbody tr th:only-of-type {\n",
       "        vertical-align: middle;\n",
       "    }\n",
       "\n",
       "    .dataframe tbody tr th {\n",
       "        vertical-align: top;\n",
       "    }\n",
       "\n",
       "    .dataframe thead th {\n",
       "        text-align: right;\n",
       "    }\n",
       "</style>\n",
       "<table border=\"1\" class=\"dataframe\">\n",
       "  <thead>\n",
       "    <tr style=\"text-align: right;\">\n",
       "      <th></th>\n",
       "      <th>PO-Number</th>\n",
       "    </tr>\n",
       "  </thead>\n",
       "  <tbody>\n",
       "    <tr>\n",
       "      <th>0</th>\n",
       "      <td>PO2515043C</td>\n",
       "    </tr>\n",
       "    <tr>\n",
       "      <th>1</th>\n",
       "      <td>PO7177994C</td>\n",
       "    </tr>\n",
       "    <tr>\n",
       "      <th>2</th>\n",
       "      <td>PO5820922C</td>\n",
       "    </tr>\n",
       "    <tr>\n",
       "      <th>3</th>\n",
       "      <td>PO2256293C</td>\n",
       "    </tr>\n",
       "    <tr>\n",
       "      <th>4</th>\n",
       "      <td>PO6493938C</td>\n",
       "    </tr>\n",
       "  </tbody>\n",
       "</table>\n",
       "</div>"
      ],
      "text/plain": [
       "    PO-Number\n",
       "0  PO2515043C\n",
       "1  PO7177994C\n",
       "2  PO5820922C\n",
       "3  PO2256293C\n",
       "4  PO6493938C"
      ]
     },
     "execution_count": 28,
     "metadata": {},
     "output_type": "execute_result"
    }
   ],
   "source": [
    "po_series = pd.DataFrame(po_list)\n",
    "po_series.rename(columns={0: \"PO-Number\"},inplace=True)\n",
    "po_series.head()"
   ]
  },
  {
   "cell_type": "code",
   "execution_count": 29,
   "id": "e5049b40",
   "metadata": {},
   "outputs": [],
   "source": [
    "po_series.drop_duplicates(inplace=True)"
   ]
  },
  {
   "cell_type": "code",
   "execution_count": 30,
   "id": "79c12e76",
   "metadata": {
    "scrolled": true
   },
   "outputs": [
    {
     "data": {
      "text/html": [
       "<div>\n",
       "<style scoped>\n",
       "    .dataframe tbody tr th:only-of-type {\n",
       "        vertical-align: middle;\n",
       "    }\n",
       "\n",
       "    .dataframe tbody tr th {\n",
       "        vertical-align: top;\n",
       "    }\n",
       "\n",
       "    .dataframe thead th {\n",
       "        text-align: right;\n",
       "    }\n",
       "</style>\n",
       "<table border=\"1\" class=\"dataframe\">\n",
       "  <thead>\n",
       "    <tr style=\"text-align: right;\">\n",
       "      <th></th>\n",
       "      <th>PO-Number</th>\n",
       "    </tr>\n",
       "  </thead>\n",
       "  <tbody>\n",
       "    <tr>\n",
       "      <th>0</th>\n",
       "      <td>PO2515043C</td>\n",
       "    </tr>\n",
       "    <tr>\n",
       "      <th>1</th>\n",
       "      <td>PO7177994C</td>\n",
       "    </tr>\n",
       "    <tr>\n",
       "      <th>2</th>\n",
       "      <td>PO5820922C</td>\n",
       "    </tr>\n",
       "    <tr>\n",
       "      <th>3</th>\n",
       "      <td>PO2256293C</td>\n",
       "    </tr>\n",
       "    <tr>\n",
       "      <th>4</th>\n",
       "      <td>PO6493938C</td>\n",
       "    </tr>\n",
       "    <tr>\n",
       "      <th>5</th>\n",
       "      <td>PO1783010C</td>\n",
       "    </tr>\n",
       "    <tr>\n",
       "      <th>6</th>\n",
       "      <td>PO8677272C</td>\n",
       "    </tr>\n",
       "    <tr>\n",
       "      <th>7</th>\n",
       "      <td>PO6101278C</td>\n",
       "    </tr>\n",
       "    <tr>\n",
       "      <th>8</th>\n",
       "      <td>PO8346848C</td>\n",
       "    </tr>\n",
       "    <tr>\n",
       "      <th>9</th>\n",
       "      <td>PO3282345C</td>\n",
       "    </tr>\n",
       "  </tbody>\n",
       "</table>\n",
       "</div>"
      ],
      "text/plain": [
       "    PO-Number\n",
       "0  PO2515043C\n",
       "1  PO7177994C\n",
       "2  PO5820922C\n",
       "3  PO2256293C\n",
       "4  PO6493938C\n",
       "5  PO1783010C\n",
       "6  PO8677272C\n",
       "7  PO6101278C\n",
       "8  PO8346848C\n",
       "9  PO3282345C"
      ]
     },
     "execution_count": 30,
     "metadata": {},
     "output_type": "execute_result"
    }
   ],
   "source": [
    "po_series.head(10)"
   ]
  },
  {
   "cell_type": "code",
   "execution_count": 31,
   "id": "e3751b16",
   "metadata": {
    "scrolled": true
   },
   "outputs": [
    {
     "data": {
      "text/html": [
       "<div>\n",
       "<style scoped>\n",
       "    .dataframe tbody tr th:only-of-type {\n",
       "        vertical-align: middle;\n",
       "    }\n",
       "\n",
       "    .dataframe tbody tr th {\n",
       "        vertical-align: top;\n",
       "    }\n",
       "\n",
       "    .dataframe thead th {\n",
       "        text-align: right;\n",
       "    }\n",
       "</style>\n",
       "<table border=\"1\" class=\"dataframe\">\n",
       "  <thead>\n",
       "    <tr style=\"text-align: right;\">\n",
       "      <th></th>\n",
       "      <th>index</th>\n",
       "      <th>PO-Number</th>\n",
       "    </tr>\n",
       "  </thead>\n",
       "  <tbody>\n",
       "    <tr>\n",
       "      <th>0</th>\n",
       "      <td>0</td>\n",
       "      <td>PO2515043C</td>\n",
       "    </tr>\n",
       "    <tr>\n",
       "      <th>1</th>\n",
       "      <td>1</td>\n",
       "      <td>PO7177994C</td>\n",
       "    </tr>\n",
       "    <tr>\n",
       "      <th>2</th>\n",
       "      <td>2</td>\n",
       "      <td>PO5820922C</td>\n",
       "    </tr>\n",
       "    <tr>\n",
       "      <th>3</th>\n",
       "      <td>3</td>\n",
       "      <td>PO2256293C</td>\n",
       "    </tr>\n",
       "    <tr>\n",
       "      <th>4</th>\n",
       "      <td>4</td>\n",
       "      <td>PO6493938C</td>\n",
       "    </tr>\n",
       "  </tbody>\n",
       "</table>\n",
       "</div>"
      ],
      "text/plain": [
       "   index   PO-Number\n",
       "0      0  PO2515043C\n",
       "1      1  PO7177994C\n",
       "2      2  PO5820922C\n",
       "3      3  PO2256293C\n",
       "4      4  PO6493938C"
      ]
     },
     "execution_count": 31,
     "metadata": {},
     "output_type": "execute_result"
    }
   ],
   "source": [
    "po_series.reset_index(inplace=True)\n",
    "po_series.head()"
   ]
  },
  {
   "cell_type": "code",
   "execution_count": 32,
   "id": "04877d04",
   "metadata": {
    "scrolled": true
   },
   "outputs": [
    {
     "data": {
      "text/html": [
       "<div>\n",
       "<style scoped>\n",
       "    .dataframe tbody tr th:only-of-type {\n",
       "        vertical-align: middle;\n",
       "    }\n",
       "\n",
       "    .dataframe tbody tr th {\n",
       "        vertical-align: top;\n",
       "    }\n",
       "\n",
       "    .dataframe thead th {\n",
       "        text-align: right;\n",
       "    }\n",
       "</style>\n",
       "<table border=\"1\" class=\"dataframe\">\n",
       "  <thead>\n",
       "    <tr style=\"text-align: right;\">\n",
       "      <th></th>\n",
       "      <th>PO-Number</th>\n",
       "    </tr>\n",
       "  </thead>\n",
       "  <tbody>\n",
       "    <tr>\n",
       "      <th>0</th>\n",
       "      <td>PO2515043C</td>\n",
       "    </tr>\n",
       "    <tr>\n",
       "      <th>1</th>\n",
       "      <td>PO7177994C</td>\n",
       "    </tr>\n",
       "    <tr>\n",
       "      <th>2</th>\n",
       "      <td>PO5820922C</td>\n",
       "    </tr>\n",
       "    <tr>\n",
       "      <th>3</th>\n",
       "      <td>PO2256293C</td>\n",
       "    </tr>\n",
       "    <tr>\n",
       "      <th>4</th>\n",
       "      <td>PO6493938C</td>\n",
       "    </tr>\n",
       "  </tbody>\n",
       "</table>\n",
       "</div>"
      ],
      "text/plain": [
       "    PO-Number\n",
       "0  PO2515043C\n",
       "1  PO7177994C\n",
       "2  PO5820922C\n",
       "3  PO2256293C\n",
       "4  PO6493938C"
      ]
     },
     "execution_count": 32,
     "metadata": {},
     "output_type": "execute_result"
    }
   ],
   "source": [
    "po_series.drop(columns='index',inplace=True)\n",
    "po_series.head()"
   ]
  },
  {
   "cell_type": "code",
   "execution_count": 33,
   "id": "224b8421",
   "metadata": {},
   "outputs": [
    {
     "name": "stdout",
     "output_type": "stream",
     "text": [
      "<class 'pandas.core.frame.DataFrame'>\n",
      "RangeIndex: 100 entries, 0 to 99\n",
      "Data columns (total 1 columns):\n",
      " #   Column     Non-Null Count  Dtype \n",
      "---  ------     --------------  ----- \n",
      " 0   PO-Number  100 non-null    object\n",
      "dtypes: object(1)\n",
      "memory usage: 928.0+ bytes\n"
     ]
    }
   ],
   "source": [
    "po_series.info()"
   ]
  },
  {
   "cell_type": "code",
   "execution_count": 34,
   "id": "19961f31",
   "metadata": {},
   "outputs": [],
   "source": [
    "po_series.to_csv('po_list.csv')"
   ]
  }
 ],
 "metadata": {
  "kernelspec": {
   "display_name": "Python 3 (ipykernel)",
   "language": "python",
   "name": "python3"
  },
  "language_info": {
   "codemirror_mode": {
    "name": "ipython",
    "version": 3
   },
   "file_extension": ".py",
   "mimetype": "text/x-python",
   "name": "python",
   "nbconvert_exporter": "python",
   "pygments_lexer": "ipython3",
   "version": "3.8.12"
  },
  "toc": {
   "base_numbering": 1,
   "nav_menu": {},
   "number_sections": true,
   "sideBar": true,
   "skip_h1_title": false,
   "title_cell": "Table of Contents",
   "title_sidebar": "Contents",
   "toc_cell": false,
   "toc_position": {},
   "toc_section_display": true,
   "toc_window_display": false
  }
 },
 "nbformat": 4,
 "nbformat_minor": 5
}
